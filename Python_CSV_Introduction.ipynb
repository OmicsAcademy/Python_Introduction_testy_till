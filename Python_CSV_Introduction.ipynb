{
 "cells": [
  {
   "cell_type": "code",
   "execution_count": 1,
   "metadata": {},
   "outputs": [],
   "source": [
    "import csv\n",
    "import urllib.request\n"
   ]
  },
  {
   "cell_type": "code",
   "execution_count": 2,
   "metadata": {},
   "outputs": [],
   "source": [
    "url = \"https://raw.githubusercontent.com/foerstner-lab/Bits_and_pieces_for_the_carpentries_workshops/master/plain_text_file_examples/DOIs_PMIDs_PubYears.tsv\"\n",
    "file = \"DOIs_PMIDs_PubYears.tsv\""
   ]
  },
  {
   "cell_type": "code",
   "execution_count": 3,
   "metadata": {},
   "outputs": [
    {
     "data": {
      "text/plain": [
       "('DOIs_PMIDs_PubYears.tsv', <http.client.HTTPMessage at 0x2d5753e59e8>)"
      ]
     },
     "execution_count": 3,
     "metadata": {},
     "output_type": "execute_result"
    }
   ],
   "source": [
    "urllib.request.urlretrieve(url, file)"
   ]
  },
  {
   "cell_type": "code",
   "execution_count": 5,
   "metadata": {},
   "outputs": [
    {
     "name": "stdout",
     "output_type": "stream",
     "text": [
      "DOI\n",
      "10.1186/s13326-017-0123-3\n",
      "10.1093/bioinformatics/btw331\n",
      "10.1007/s11306-018-1356-6\n",
      "10.1371/journal.pcbi.1004447\n",
      "10.1093/bioinformatics/btv363.\n",
      "10.1371/journal.pbio.3000246\n",
      "10.7717/peerj.6762\n",
      "10.3389/fpsyg.2019.00564\n"
     ]
    }
   ],
   "source": [
    "fh = open(file)\n",
    "\n",
    "for line in csv.reader(fh, delimiter=\"\\t\"):\n",
    "    print(line[0])"
   ]
  },
  {
   "cell_type": "code",
   "execution_count": null,
   "metadata": {},
   "outputs": [],
   "source": []
  },
  {
   "cell_type": "code",
   "execution_count": null,
   "metadata": {},
   "outputs": [],
   "source": []
  },
  {
   "cell_type": "code",
   "execution_count": null,
   "metadata": {},
   "outputs": [],
   "source": []
  }
 ],
 "metadata": {
  "kernelspec": {
   "display_name": "Python 3",
   "language": "python",
   "name": "python3"
  },
  "language_info": {
   "codemirror_mode": {
    "name": "ipython",
    "version": 3
   },
   "file_extension": ".py",
   "mimetype": "text/x-python",
   "name": "python",
   "nbconvert_exporter": "python",
   "pygments_lexer": "ipython3",
   "version": "3.7.1"
  }
 },
 "nbformat": 4,
 "nbformat_minor": 2
}
